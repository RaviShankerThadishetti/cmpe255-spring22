{
  "nbformat": 4,
  "nbformat_minor": 0,
  "metadata": {
    "colab": {
      "name": "Lab3.ipynb",
      "provenance": [],
      "collapsed_sections": []
    },
    "kernelspec": {
      "name": "python3",
      "display_name": "Python 3"
    },
    "language_info": {
      "name": "python"
    }
  },
  "cells": [
    {
      "cell_type": "code",
      "execution_count": 2,
      "metadata": {
        "id": "F3vGaXzoOiBw"
      },
      "outputs": [],
      "source": [
        "\n",
        "import pandas as pd \n",
        "import seaborn as sns\n",
        "import matplotlib.pyplot as plt\n",
        "from google.colab import files \n",
        "import io\n",
        "import numpy as np\n",
        "from sklearn.svm import SVC\n",
        "from sklearn.model_selection import train_test_split, GridSearchCV\n",
        "from sklearn.preprocessing import MinMaxScaler\n",
        "from sklearn.metrics import f1_score, classification_report, confusion_matrix, accuracy_score\n",
        "from imblearn.over_sampling import RandomOverSampler\n",
        "from sklearn.decomposition import PCA"
      ]
    },
    {
      "cell_type": "code",
      "source": [
        "# \n",
        "data = pd.read_csv('fetal_health.csv')"
      ],
      "metadata": {
        "id": "_WXhyL3aPjfv"
      },
      "execution_count": 3,
      "outputs": []
    },
    {
      "cell_type": "code",
      "source": [
        "#print(data.head(10))\n",
        "\n",
        "data.head(10)"
      ],
      "metadata": {
        "colab": {
          "base_uri": "https://localhost:8080/",
          "height": 473
        },
        "id": "HlI2txUqQMAd",
        "outputId": "85cb0ddf-49ec-44d1-d93d-91b8e1882dfe"
      },
      "execution_count": 4,
      "outputs": [
        {
          "output_type": "execute_result",
          "data": {
            "text/plain": [
              "   baseline value  accelerations  fetal_movement  uterine_contractions  \\\n",
              "0           120.0          0.000             0.0                 0.000   \n",
              "1           132.0          0.006             0.0                 0.006   \n",
              "2           133.0          0.003             0.0                 0.008   \n",
              "3           134.0          0.003             0.0                 0.008   \n",
              "4           132.0          0.007             0.0                 0.008   \n",
              "5           134.0          0.001             0.0                 0.010   \n",
              "6           134.0          0.001             0.0                 0.013   \n",
              "7           122.0          0.000             0.0                 0.000   \n",
              "8           122.0          0.000             0.0                 0.002   \n",
              "9           122.0          0.000             0.0                 0.003   \n",
              "\n",
              "   light_decelerations  severe_decelerations  prolongued_decelerations  \\\n",
              "0                0.000                   0.0                     0.000   \n",
              "1                0.003                   0.0                     0.000   \n",
              "2                0.003                   0.0                     0.000   \n",
              "3                0.003                   0.0                     0.000   \n",
              "4                0.000                   0.0                     0.000   \n",
              "5                0.009                   0.0                     0.002   \n",
              "6                0.008                   0.0                     0.003   \n",
              "7                0.000                   0.0                     0.000   \n",
              "8                0.000                   0.0                     0.000   \n",
              "9                0.000                   0.0                     0.000   \n",
              "\n",
              "   abnormal_short_term_variability  mean_value_of_short_term_variability  \\\n",
              "0                             73.0                                   0.5   \n",
              "1                             17.0                                   2.1   \n",
              "2                             16.0                                   2.1   \n",
              "3                             16.0                                   2.4   \n",
              "4                             16.0                                   2.4   \n",
              "5                             26.0                                   5.9   \n",
              "6                             29.0                                   6.3   \n",
              "7                             83.0                                   0.5   \n",
              "8                             84.0                                   0.5   \n",
              "9                             86.0                                   0.3   \n",
              "\n",
              "   percentage_of_time_with_abnormal_long_term_variability  ...  histogram_min  \\\n",
              "0                                               43.0       ...           62.0   \n",
              "1                                                0.0       ...           68.0   \n",
              "2                                                0.0       ...           68.0   \n",
              "3                                                0.0       ...           53.0   \n",
              "4                                                0.0       ...           53.0   \n",
              "5                                                0.0       ...           50.0   \n",
              "6                                                0.0       ...           50.0   \n",
              "7                                                6.0       ...           62.0   \n",
              "8                                                5.0       ...           62.0   \n",
              "9                                                6.0       ...           62.0   \n",
              "\n",
              "   histogram_max  histogram_number_of_peaks  histogram_number_of_zeroes  \\\n",
              "0          126.0                        2.0                         0.0   \n",
              "1          198.0                        6.0                         1.0   \n",
              "2          198.0                        5.0                         1.0   \n",
              "3          170.0                       11.0                         0.0   \n",
              "4          170.0                        9.0                         0.0   \n",
              "5          200.0                        5.0                         3.0   \n",
              "6          200.0                        6.0                         3.0   \n",
              "7          130.0                        0.0                         0.0   \n",
              "8          130.0                        0.0                         0.0   \n",
              "9          130.0                        1.0                         0.0   \n",
              "\n",
              "   histogram_mode  histogram_mean  histogram_median  histogram_variance  \\\n",
              "0           120.0           137.0             121.0                73.0   \n",
              "1           141.0           136.0             140.0                12.0   \n",
              "2           141.0           135.0             138.0                13.0   \n",
              "3           137.0           134.0             137.0                13.0   \n",
              "4           137.0           136.0             138.0                11.0   \n",
              "5            76.0           107.0             107.0               170.0   \n",
              "6            71.0           107.0             106.0               215.0   \n",
              "7           122.0           122.0             123.0                 3.0   \n",
              "8           122.0           122.0             123.0                 3.0   \n",
              "9           122.0           122.0             123.0                 1.0   \n",
              "\n",
              "   histogram_tendency  fetal_health  \n",
              "0                 1.0           2.0  \n",
              "1                 0.0           1.0  \n",
              "2                 0.0           1.0  \n",
              "3                 1.0           1.0  \n",
              "4                 1.0           1.0  \n",
              "5                 0.0           3.0  \n",
              "6                 0.0           3.0  \n",
              "7                 1.0           3.0  \n",
              "8                 1.0           3.0  \n",
              "9                 1.0           3.0  \n",
              "\n",
              "[10 rows x 22 columns]"
            ],
            "text/html": [
              "\n",
              "  <div id=\"df-c3ab0f4e-f715-4ce7-a51d-e1bae19e9e16\">\n",
              "    <div class=\"colab-df-container\">\n",
              "      <div>\n",
              "<style scoped>\n",
              "    .dataframe tbody tr th:only-of-type {\n",
              "        vertical-align: middle;\n",
              "    }\n",
              "\n",
              "    .dataframe tbody tr th {\n",
              "        vertical-align: top;\n",
              "    }\n",
              "\n",
              "    .dataframe thead th {\n",
              "        text-align: right;\n",
              "    }\n",
              "</style>\n",
              "<table border=\"1\" class=\"dataframe\">\n",
              "  <thead>\n",
              "    <tr style=\"text-align: right;\">\n",
              "      <th></th>\n",
              "      <th>baseline value</th>\n",
              "      <th>accelerations</th>\n",
              "      <th>fetal_movement</th>\n",
              "      <th>uterine_contractions</th>\n",
              "      <th>light_decelerations</th>\n",
              "      <th>severe_decelerations</th>\n",
              "      <th>prolongued_decelerations</th>\n",
              "      <th>abnormal_short_term_variability</th>\n",
              "      <th>mean_value_of_short_term_variability</th>\n",
              "      <th>percentage_of_time_with_abnormal_long_term_variability</th>\n",
              "      <th>...</th>\n",
              "      <th>histogram_min</th>\n",
              "      <th>histogram_max</th>\n",
              "      <th>histogram_number_of_peaks</th>\n",
              "      <th>histogram_number_of_zeroes</th>\n",
              "      <th>histogram_mode</th>\n",
              "      <th>histogram_mean</th>\n",
              "      <th>histogram_median</th>\n",
              "      <th>histogram_variance</th>\n",
              "      <th>histogram_tendency</th>\n",
              "      <th>fetal_health</th>\n",
              "    </tr>\n",
              "  </thead>\n",
              "  <tbody>\n",
              "    <tr>\n",
              "      <th>0</th>\n",
              "      <td>120.0</td>\n",
              "      <td>0.000</td>\n",
              "      <td>0.0</td>\n",
              "      <td>0.000</td>\n",
              "      <td>0.000</td>\n",
              "      <td>0.0</td>\n",
              "      <td>0.000</td>\n",
              "      <td>73.0</td>\n",
              "      <td>0.5</td>\n",
              "      <td>43.0</td>\n",
              "      <td>...</td>\n",
              "      <td>62.0</td>\n",
              "      <td>126.0</td>\n",
              "      <td>2.0</td>\n",
              "      <td>0.0</td>\n",
              "      <td>120.0</td>\n",
              "      <td>137.0</td>\n",
              "      <td>121.0</td>\n",
              "      <td>73.0</td>\n",
              "      <td>1.0</td>\n",
              "      <td>2.0</td>\n",
              "    </tr>\n",
              "    <tr>\n",
              "      <th>1</th>\n",
              "      <td>132.0</td>\n",
              "      <td>0.006</td>\n",
              "      <td>0.0</td>\n",
              "      <td>0.006</td>\n",
              "      <td>0.003</td>\n",
              "      <td>0.0</td>\n",
              "      <td>0.000</td>\n",
              "      <td>17.0</td>\n",
              "      <td>2.1</td>\n",
              "      <td>0.0</td>\n",
              "      <td>...</td>\n",
              "      <td>68.0</td>\n",
              "      <td>198.0</td>\n",
              "      <td>6.0</td>\n",
              "      <td>1.0</td>\n",
              "      <td>141.0</td>\n",
              "      <td>136.0</td>\n",
              "      <td>140.0</td>\n",
              "      <td>12.0</td>\n",
              "      <td>0.0</td>\n",
              "      <td>1.0</td>\n",
              "    </tr>\n",
              "    <tr>\n",
              "      <th>2</th>\n",
              "      <td>133.0</td>\n",
              "      <td>0.003</td>\n",
              "      <td>0.0</td>\n",
              "      <td>0.008</td>\n",
              "      <td>0.003</td>\n",
              "      <td>0.0</td>\n",
              "      <td>0.000</td>\n",
              "      <td>16.0</td>\n",
              "      <td>2.1</td>\n",
              "      <td>0.0</td>\n",
              "      <td>...</td>\n",
              "      <td>68.0</td>\n",
              "      <td>198.0</td>\n",
              "      <td>5.0</td>\n",
              "      <td>1.0</td>\n",
              "      <td>141.0</td>\n",
              "      <td>135.0</td>\n",
              "      <td>138.0</td>\n",
              "      <td>13.0</td>\n",
              "      <td>0.0</td>\n",
              "      <td>1.0</td>\n",
              "    </tr>\n",
              "    <tr>\n",
              "      <th>3</th>\n",
              "      <td>134.0</td>\n",
              "      <td>0.003</td>\n",
              "      <td>0.0</td>\n",
              "      <td>0.008</td>\n",
              "      <td>0.003</td>\n",
              "      <td>0.0</td>\n",
              "      <td>0.000</td>\n",
              "      <td>16.0</td>\n",
              "      <td>2.4</td>\n",
              "      <td>0.0</td>\n",
              "      <td>...</td>\n",
              "      <td>53.0</td>\n",
              "      <td>170.0</td>\n",
              "      <td>11.0</td>\n",
              "      <td>0.0</td>\n",
              "      <td>137.0</td>\n",
              "      <td>134.0</td>\n",
              "      <td>137.0</td>\n",
              "      <td>13.0</td>\n",
              "      <td>1.0</td>\n",
              "      <td>1.0</td>\n",
              "    </tr>\n",
              "    <tr>\n",
              "      <th>4</th>\n",
              "      <td>132.0</td>\n",
              "      <td>0.007</td>\n",
              "      <td>0.0</td>\n",
              "      <td>0.008</td>\n",
              "      <td>0.000</td>\n",
              "      <td>0.0</td>\n",
              "      <td>0.000</td>\n",
              "      <td>16.0</td>\n",
              "      <td>2.4</td>\n",
              "      <td>0.0</td>\n",
              "      <td>...</td>\n",
              "      <td>53.0</td>\n",
              "      <td>170.0</td>\n",
              "      <td>9.0</td>\n",
              "      <td>0.0</td>\n",
              "      <td>137.0</td>\n",
              "      <td>136.0</td>\n",
              "      <td>138.0</td>\n",
              "      <td>11.0</td>\n",
              "      <td>1.0</td>\n",
              "      <td>1.0</td>\n",
              "    </tr>\n",
              "    <tr>\n",
              "      <th>5</th>\n",
              "      <td>134.0</td>\n",
              "      <td>0.001</td>\n",
              "      <td>0.0</td>\n",
              "      <td>0.010</td>\n",
              "      <td>0.009</td>\n",
              "      <td>0.0</td>\n",
              "      <td>0.002</td>\n",
              "      <td>26.0</td>\n",
              "      <td>5.9</td>\n",
              "      <td>0.0</td>\n",
              "      <td>...</td>\n",
              "      <td>50.0</td>\n",
              "      <td>200.0</td>\n",
              "      <td>5.0</td>\n",
              "      <td>3.0</td>\n",
              "      <td>76.0</td>\n",
              "      <td>107.0</td>\n",
              "      <td>107.0</td>\n",
              "      <td>170.0</td>\n",
              "      <td>0.0</td>\n",
              "      <td>3.0</td>\n",
              "    </tr>\n",
              "    <tr>\n",
              "      <th>6</th>\n",
              "      <td>134.0</td>\n",
              "      <td>0.001</td>\n",
              "      <td>0.0</td>\n",
              "      <td>0.013</td>\n",
              "      <td>0.008</td>\n",
              "      <td>0.0</td>\n",
              "      <td>0.003</td>\n",
              "      <td>29.0</td>\n",
              "      <td>6.3</td>\n",
              "      <td>0.0</td>\n",
              "      <td>...</td>\n",
              "      <td>50.0</td>\n",
              "      <td>200.0</td>\n",
              "      <td>6.0</td>\n",
              "      <td>3.0</td>\n",
              "      <td>71.0</td>\n",
              "      <td>107.0</td>\n",
              "      <td>106.0</td>\n",
              "      <td>215.0</td>\n",
              "      <td>0.0</td>\n",
              "      <td>3.0</td>\n",
              "    </tr>\n",
              "    <tr>\n",
              "      <th>7</th>\n",
              "      <td>122.0</td>\n",
              "      <td>0.000</td>\n",
              "      <td>0.0</td>\n",
              "      <td>0.000</td>\n",
              "      <td>0.000</td>\n",
              "      <td>0.0</td>\n",
              "      <td>0.000</td>\n",
              "      <td>83.0</td>\n",
              "      <td>0.5</td>\n",
              "      <td>6.0</td>\n",
              "      <td>...</td>\n",
              "      <td>62.0</td>\n",
              "      <td>130.0</td>\n",
              "      <td>0.0</td>\n",
              "      <td>0.0</td>\n",
              "      <td>122.0</td>\n",
              "      <td>122.0</td>\n",
              "      <td>123.0</td>\n",
              "      <td>3.0</td>\n",
              "      <td>1.0</td>\n",
              "      <td>3.0</td>\n",
              "    </tr>\n",
              "    <tr>\n",
              "      <th>8</th>\n",
              "      <td>122.0</td>\n",
              "      <td>0.000</td>\n",
              "      <td>0.0</td>\n",
              "      <td>0.002</td>\n",
              "      <td>0.000</td>\n",
              "      <td>0.0</td>\n",
              "      <td>0.000</td>\n",
              "      <td>84.0</td>\n",
              "      <td>0.5</td>\n",
              "      <td>5.0</td>\n",
              "      <td>...</td>\n",
              "      <td>62.0</td>\n",
              "      <td>130.0</td>\n",
              "      <td>0.0</td>\n",
              "      <td>0.0</td>\n",
              "      <td>122.0</td>\n",
              "      <td>122.0</td>\n",
              "      <td>123.0</td>\n",
              "      <td>3.0</td>\n",
              "      <td>1.0</td>\n",
              "      <td>3.0</td>\n",
              "    </tr>\n",
              "    <tr>\n",
              "      <th>9</th>\n",
              "      <td>122.0</td>\n",
              "      <td>0.000</td>\n",
              "      <td>0.0</td>\n",
              "      <td>0.003</td>\n",
              "      <td>0.000</td>\n",
              "      <td>0.0</td>\n",
              "      <td>0.000</td>\n",
              "      <td>86.0</td>\n",
              "      <td>0.3</td>\n",
              "      <td>6.0</td>\n",
              "      <td>...</td>\n",
              "      <td>62.0</td>\n",
              "      <td>130.0</td>\n",
              "      <td>1.0</td>\n",
              "      <td>0.0</td>\n",
              "      <td>122.0</td>\n",
              "      <td>122.0</td>\n",
              "      <td>123.0</td>\n",
              "      <td>1.0</td>\n",
              "      <td>1.0</td>\n",
              "      <td>3.0</td>\n",
              "    </tr>\n",
              "  </tbody>\n",
              "</table>\n",
              "<p>10 rows × 22 columns</p>\n",
              "</div>\n",
              "      <button class=\"colab-df-convert\" onclick=\"convertToInteractive('df-c3ab0f4e-f715-4ce7-a51d-e1bae19e9e16')\"\n",
              "              title=\"Convert this dataframe to an interactive table.\"\n",
              "              style=\"display:none;\">\n",
              "        \n",
              "  <svg xmlns=\"http://www.w3.org/2000/svg\" height=\"24px\"viewBox=\"0 0 24 24\"\n",
              "       width=\"24px\">\n",
              "    <path d=\"M0 0h24v24H0V0z\" fill=\"none\"/>\n",
              "    <path d=\"M18.56 5.44l.94 2.06.94-2.06 2.06-.94-2.06-.94-.94-2.06-.94 2.06-2.06.94zm-11 1L8.5 8.5l.94-2.06 2.06-.94-2.06-.94L8.5 2.5l-.94 2.06-2.06.94zm10 10l.94 2.06.94-2.06 2.06-.94-2.06-.94-.94-2.06-.94 2.06-2.06.94z\"/><path d=\"M17.41 7.96l-1.37-1.37c-.4-.4-.92-.59-1.43-.59-.52 0-1.04.2-1.43.59L10.3 9.45l-7.72 7.72c-.78.78-.78 2.05 0 2.83L4 21.41c.39.39.9.59 1.41.59.51 0 1.02-.2 1.41-.59l7.78-7.78 2.81-2.81c.8-.78.8-2.07 0-2.86zM5.41 20L4 18.59l7.72-7.72 1.47 1.35L5.41 20z\"/>\n",
              "  </svg>\n",
              "      </button>\n",
              "      \n",
              "  <style>\n",
              "    .colab-df-container {\n",
              "      display:flex;\n",
              "      flex-wrap:wrap;\n",
              "      gap: 12px;\n",
              "    }\n",
              "\n",
              "    .colab-df-convert {\n",
              "      background-color: #E8F0FE;\n",
              "      border: none;\n",
              "      border-radius: 50%;\n",
              "      cursor: pointer;\n",
              "      display: none;\n",
              "      fill: #1967D2;\n",
              "      height: 32px;\n",
              "      padding: 0 0 0 0;\n",
              "      width: 32px;\n",
              "    }\n",
              "\n",
              "    .colab-df-convert:hover {\n",
              "      background-color: #E2EBFA;\n",
              "      box-shadow: 0px 1px 2px rgba(60, 64, 67, 0.3), 0px 1px 3px 1px rgba(60, 64, 67, 0.15);\n",
              "      fill: #174EA6;\n",
              "    }\n",
              "\n",
              "    [theme=dark] .colab-df-convert {\n",
              "      background-color: #3B4455;\n",
              "      fill: #D2E3FC;\n",
              "    }\n",
              "\n",
              "    [theme=dark] .colab-df-convert:hover {\n",
              "      background-color: #434B5C;\n",
              "      box-shadow: 0px 1px 3px 1px rgba(0, 0, 0, 0.15);\n",
              "      filter: drop-shadow(0px 1px 2px rgba(0, 0, 0, 0.3));\n",
              "      fill: #FFFFFF;\n",
              "    }\n",
              "  </style>\n",
              "\n",
              "      <script>\n",
              "        const buttonEl =\n",
              "          document.querySelector('#df-c3ab0f4e-f715-4ce7-a51d-e1bae19e9e16 button.colab-df-convert');\n",
              "        buttonEl.style.display =\n",
              "          google.colab.kernel.accessAllowed ? 'block' : 'none';\n",
              "\n",
              "        async function convertToInteractive(key) {\n",
              "          const element = document.querySelector('#df-c3ab0f4e-f715-4ce7-a51d-e1bae19e9e16');\n",
              "          const dataTable =\n",
              "            await google.colab.kernel.invokeFunction('convertToInteractive',\n",
              "                                                     [key], {});\n",
              "          if (!dataTable) return;\n",
              "\n",
              "          const docLinkHtml = 'Like what you see? Visit the ' +\n",
              "            '<a target=\"_blank\" href=https://colab.research.google.com/notebooks/data_table.ipynb>data table notebook</a>'\n",
              "            + ' to learn more about interactive tables.';\n",
              "          element.innerHTML = '';\n",
              "          dataTable['output_type'] = 'display_data';\n",
              "          await google.colab.output.renderOutput(dataTable, element);\n",
              "          const docLink = document.createElement('div');\n",
              "          docLink.innerHTML = docLinkHtml;\n",
              "          element.appendChild(docLink);\n",
              "        }\n",
              "      </script>\n",
              "    </div>\n",
              "  </div>\n",
              "  "
            ]
          },
          "metadata": {},
          "execution_count": 4
        }
      ]
    },
    {
      "cell_type": "code",
      "source": [
        "\n",
        "data.isna().sum()\n",
        "#Check the total null values present in each of the columns in the data set"
      ],
      "metadata": {
        "colab": {
          "base_uri": "https://localhost:8080/"
        },
        "id": "SPN_Ri8eQYXm",
        "outputId": "79e36b3e-8064-4cc2-ff0f-c1ca10777795"
      },
      "execution_count": 5,
      "outputs": [
        {
          "output_type": "execute_result",
          "data": {
            "text/plain": [
              "baseline value                                            0\n",
              "accelerations                                             0\n",
              "fetal_movement                                            0\n",
              "uterine_contractions                                      0\n",
              "light_decelerations                                       0\n",
              "severe_decelerations                                      0\n",
              "prolongued_decelerations                                  0\n",
              "abnormal_short_term_variability                           0\n",
              "mean_value_of_short_term_variability                      0\n",
              "percentage_of_time_with_abnormal_long_term_variability    0\n",
              "mean_value_of_long_term_variability                       0\n",
              "histogram_width                                           0\n",
              "histogram_min                                             0\n",
              "histogram_max                                             0\n",
              "histogram_number_of_peaks                                 0\n",
              "histogram_number_of_zeroes                                0\n",
              "histogram_mode                                            0\n",
              "histogram_mean                                            0\n",
              "histogram_median                                          0\n",
              "histogram_variance                                        0\n",
              "histogram_tendency                                        0\n",
              "fetal_health                                              0\n",
              "dtype: int64"
            ]
          },
          "metadata": {},
          "execution_count": 5
        }
      ]
    },
    {
      "cell_type": "code",
      "source": [
        "#shape of the data set(gives the number of rows and columns of the data set)\n",
        "data.shape"
      ],
      "metadata": {
        "colab": {
          "base_uri": "https://localhost:8080/"
        },
        "id": "qC9p7HO-P_RK",
        "outputId": "afc9160f-e9a5-48f6-c629-353eea3d0d0c"
      },
      "execution_count": 6,
      "outputs": [
        {
          "output_type": "execute_result",
          "data": {
            "text/plain": [
              "(2126, 22)"
            ]
          },
          "metadata": {},
          "execution_count": 6
        }
      ]
    },
    {
      "cell_type": "markdown",
      "source": [
        "There are no null values in this dataset."
      ],
      "metadata": {
        "id": "jTMy3YCZUn7r"
      }
    },
    {
      "cell_type": "code",
      "source": [
        "\n",
        "#\n",
        "#Checking the distribution [Tagged as 1 (Normal), 2 (Suspect) and 3 (Pathological)] of target label 'fetal_health' using a SNS Countplot\n",
        "#\n",
        "\n",
        "sns.countplot(x = 'fetal_health' ,data = data)"
      ],
      "metadata": {
        "colab": {
          "base_uri": "https://localhost:8080/",
          "height": 297
        },
        "id": "WMljihpzQcJa",
        "outputId": "aa8f0cc0-b881-4b52-f5e2-7c17e3365fcf"
      },
      "execution_count": 7,
      "outputs": [
        {
          "output_type": "execute_result",
          "data": {
            "text/plain": [
              "<matplotlib.axes._subplots.AxesSubplot at 0x7f082a01c7d0>"
            ]
          },
          "metadata": {},
          "execution_count": 7
        },
        {
          "output_type": "display_data",
          "data": {
            "text/plain": [
              "<Figure size 432x288 with 1 Axes>"
            ],
            "image/png": "[encoded data removed]"
          },
          "metadata": {
            "needs_background": "light"
          }
        }
      ]
    },
    {
      "cell_type": "code",
      "source": [
        "#Trying to balance the target variables using the Random Over Sampler method\n",
        "\n",
        "rdm_smpler = RandomOverSampler()\n",
        "\n",
        "X, Y = data.iloc[:,:-1], data['fetal_health']\n",
        "\n",
        "X,Y = rdm_smpler.fit_resample(X,Y)"
      ],
      "metadata": {
        "id": "tHghPM89viQ1"
      },
      "execution_count": 9,
      "outputs": []
    },
    {
      "cell_type": "code",
      "source": [
        "#Checking for the count of unique values present in the target.\n",
        "Y.value_counts()"
      ],
      "metadata": {
        "colab": {
          "base_uri": "https://localhost:8080/"
        },
        "id": "Guw0mYRSxbho",
        "outputId": "0489576d-fb42-4473-b757-2b657253d5d4"
      },
      "execution_count": 11,
      "outputs": [
        {
          "output_type": "execute_result",
          "data": {
            "text/plain": [
              "2.0    1655\n",
              "1.0    1655\n",
              "3.0    1655\n",
              "Name: fetal_health, dtype: int64"
            ]
          },
          "metadata": {},
          "execution_count": 11
        }
      ]
    },
    {
      "cell_type": "code",
      "source": [
        "#Function to plot decision boundary\n",
        "def plot_meshgrid(x, y, h=.02):\n",
        "    x_minimum, x_maximum = x.min() - 1, x.max() + 1\n",
        "    y_minimum, y_maximum = y.min() - 1, y.max() + 1\n",
        "    res_x, res_y = np.meshgrid(np.arange(x_minimum, x_maximum, h), np.arange(y_minimum, y_maximum, h))\n",
        "    return res_x, res_y\n",
        "\n",
        "def contoursPlot(ax, clf, res_x, res_y, **params):\n",
        "    Z = clf.predict(np.c_[res_x.ravel(), res_y.ravel()])\n",
        "    Z = Z.reshape(res_x.shape)\n",
        "    final_result = ax.contourf(res_x, res_y, Z, **params)\n",
        "    return final_result"
      ],
      "metadata": {
        "id": "8QuMbHYY1fug"
      },
      "execution_count": 12,
      "outputs": []
    },
    {
      "cell_type": "code",
      "source": [
        "\n",
        "\n",
        "#PCA(dimentionality reduction)\n",
        "\n",
        "var_pca= PCA(n_components=2) #we are giving the no_components=2\n",
        "\n",
        "X = pd.DataFrame(var_pca.fit_transform(X))"
      ],
      "metadata": {
        "id": "U9DBq_HG133i"
      },
      "execution_count": 14,
      "outputs": []
    },
    {
      "cell_type": "markdown",
      "source": [
        "Model Training with C=0.01"
      ],
      "metadata": {
        "id": "Qyt5gHsD6ZCv"
      }
    },
    {
      "cell_type": "code",
      "source": [
        "#Training model with C = 0.01\n",
        "\n",
        "x_train, x_test, y_train, y_test = train_test_split(X,Y, test_size=0.2)\n",
        "\n",
        "scaler = MinMaxScaler()              #Normalise using MinMax Scalar\n",
        "x_train = scaler.fit_transform(x_train)\n",
        "x_test = scaler.transform(x_test)\n",
        "\n",
        "\n",
        "mdl_c_01 = SVC(C = 0.01, kernel='linear')\n",
        "\n",
        "mdl_c_01.fit(x_train, y_train)\n",
        "\n",
        "y_pred_train1 = mdl_c_01.predict(x_train)\n",
        "print('Accuarcy Score:(Train Data set)', accuracy_score(y_train,y_pred_train1))\n",
        "\n",
        "\n",
        "y_pred_test1 = mdl_c_01.predict(x_test)\n",
        "print('Accuracy Score(Test Data Set:', accuracy_score(y_test,y_pred_test1))\n"
      ],
      "metadata": {
        "colab": {
          "base_uri": "https://localhost:8080/"
        },
        "id": "jPvnNRYdSsQo",
        "outputId": "a2a0c9a5-e812-4675-b047-8ba3ffad6554"
      },
      "execution_count": 15,
      "outputs": [
        {
          "output_type": "stream",
          "name": "stdout",
          "text": [
            "Accuarcy Score:(Train Data set) 0.5835850956696879\n",
            "Accuracy Score(Test Data Set: 0.5931520644511581\n"
          ]
        }
      ]
    },
    {
      "cell_type": "code",
      "source": [
        "#Plotting diagrams for the C value =0.01\n",
        "\n",
        "X1 = scaler.fit_transform(X)\n",
        "\n",
        "fig, ax = plt.subplots(figsize=(7,5))\n",
        "# title\n",
        "\n",
        "title = ('SVC Linear with C=0.01')\n",
        "\n",
        "# Grid for plotting\n",
        "X0, X1 = X1[:, 0], X1[:, 1]\n",
        "res_x, res_y = plot_meshgrid(X0, X1)\n",
        "\n",
        "contoursPlot(ax, mdl_c_01, res_x, res_y, cmap=plt.cm.coolwarm, alpha=0.9)\n",
        "#Contours Plot\n",
        "\n",
        "ax.scatter(X0, X1, c=Y, cmap=plt.cm.coolwarm, s=20, edgecolors='k')\n",
        "ax.set_ylabel('y label')\n",
        "ax.set_xlabel('x label')\n",
        "ax.set_xticks(())\n",
        "ax.set_yticks(())\n",
        "ax.set_title(title)\n",
        "ax.legend()\n",
        "plt.show()"
      ],
      "metadata": {
        "colab": {
          "base_uri": "https://localhost:8080/",
          "height": 351
        },
        "id": "Ko2tiRms664j",
        "outputId": "cfe27094-2a89-46eb-e085-ca067d1bbb87"
      },
      "execution_count": 18,
      "outputs": [
        {
          "output_type": "stream",
          "name": "stderr",
          "text": [
            "No handles with labels found to put in legend.\n"
          ]
        },
        {
          "output_type": "display_data",
          "data": {
            "text/plain": [
              "<Figure size 504x360 with 1 Axes>"
            ],
            "image/png": "[encoded data removed]"
          },
          "metadata": {}
        }
      ]
    },
    {
      "cell_type": "markdown",
      "source": [
        "### Training model with C = 0.2"
      ],
      "metadata": {
        "id": "eh9gLix56a_k"
      }
    },
    {
      "cell_type": "code",
      "source": [
        "#Training model with C = 0.1\n",
        "\n",
        "x_train, x_test, y_train, y_test = train_test_split(X,Y, test_size=0.2)\n",
        "\n",
        "scaler = MinMaxScaler()\n",
        "x_train = scaler.fit_transform(x_train)\n",
        "x_test = scaler.transform(x_test)\n",
        "\n",
        "\n",
        "mdl_svc_02 = SVC(C = 0.2, kernel='linear')\n",
        "\n",
        "mdl_svc_02.fit(x_train, y_train)\n",
        "\n",
        "y_pred_train3 = mdl_svc_02.predict(x_train)\n",
        "print('Accuracy Score(Train Data set)', accuracy_score(y_train,y_pred_train3))\n",
        "\n",
        "\n",
        "y_pred_test3 = mdl_svc_02.predict(x_test)\n",
        "print('Accuracy Score (Test Data set)', accuracy_score(y_test,y_pred_test3))\n"
      ],
      "metadata": {
        "colab": {
          "base_uri": "https://localhost:8080/"
        },
        "id": "nSR-FUoPTJ7F",
        "outputId": "0ed8725c-74b0-4811-dc66-aaeaece206a0"
      },
      "execution_count": 19,
      "outputs": [
        {
          "output_type": "stream",
          "name": "stdout",
          "text": [
            "Accuracy Score(Train Data set) 0.6676737160120846\n",
            "Accuracy Score (Test Data set) 0.6364551863041289\n"
          ]
        }
      ]
    },
    {
      "cell_type": "code",
      "source": [
        "X1 = scaler.fit_transform(X)\n",
        "\n",
        "fig, ax = plt.subplots(figsize=(8,5))\n",
        "# title \n",
        "\n",
        "title = ('SVC(Linear) with C=0.2')\n",
        "#Grid Plot\n",
        "\n",
        "\n",
        "X0, X1 = X1[:, 0], X1[:, 1]\n",
        "res_x, res_y = plot_meshgrid(X0, X1)\n",
        "\n",
        "contoursPlot(ax, mdl_svc_02, res_x, res_y, cmap=plt.cm.coolwarm, alpha=0.9)\n",
        "ax.scatter(X0, X1, c=Y, cmap=plt.cm.coolwarm, s=20, edgecolors='k')\n",
        "ax.set_ylabel('y label')\n",
        "ax.set_xlabel('x label')\n",
        "ax.set_xticks(())\n",
        "ax.set_yticks(())\n",
        "ax.set_title(title)\n",
        "ax.legend()\n",
        "plt.show()"
      ],
      "metadata": {
        "colab": {
          "base_uri": "https://localhost:8080/",
          "height": 351
        },
        "id": "OQsBWoDB7EAu",
        "outputId": "5d98738e-505a-4cad-cb2f-7560514d1a12"
      },
      "execution_count": 21,
      "outputs": [
        {
          "output_type": "stream",
          "name": "stderr",
          "text": [
            "No handles with labels found to put in legend.\n"
          ]
        },
        {
          "output_type": "display_data",
          "data": {
            "text/plain": [
              "<Figure size 576x360 with 1 Axes>"
            ],
            "image/png": "[encoded data removed]"
          },
          "metadata": {}
        }
      ]
    },
    {
      "cell_type": "markdown",
      "source": [
        "### Training model with C = 10"
      ],
      "metadata": {
        "id": "wSBjqEnjXq_Q"
      }
    },
    {
      "cell_type": "code",
      "source": [
        "# SVC Model Training with C=10\n",
        "\n",
        "x_train, x_test, y_train, y_test = train_test_split(X,Y, test_size=0.2)\n",
        "\n",
        "scaler = MinMaxScaler()\n",
        "x_train = scaler.fit_transform(x_train)\n",
        "x_test = scaler.transform(x_test)\n",
        "\n",
        "\n",
        "mdl_c_03 = SVC(C = 10, kernel='linear')\n",
        "\n",
        "mdl_c_03.fit(x_train, y_train)\n",
        "\n",
        "y_pred_train5 = mdl_c_03.predict(x_train)\n",
        "print('Accuracy(Train Data Set:', accuracy_score(y_train,y_pred_train5))\n",
        "\n",
        "\n",
        "y_pred_test5 = mdl_c_03.predict(x_test)\n",
        "print('Accuracy Score(Test Data set)', accuracy_score(y_test,y_pred_test5))"
      ],
      "metadata": {
        "colab": {
          "base_uri": "https://localhost:8080/"
        },
        "id": "zgeqXIgXXtMX",
        "outputId": "42ad0acc-38b2-47fe-c606-c1ad8b5d19d9"
      },
      "execution_count": 23,
      "outputs": [
        {
          "output_type": "stream",
          "name": "stdout",
          "text": [
            "Accuracy(Train Data Set: 0.6711983887210473\n",
            "Accuracy Score(Test Data set) 0.6868076535750252\n"
          ]
        }
      ]
    },
    {
      "cell_type": "code",
      "source": [
        "X1 = scaler.fit_transform(X)\n",
        "\n",
        "fig, ax = plt.subplots(figsize=(8,5))\n",
        "# title\n",
        "title = ('SVC Linear with C=10')\n",
        "\n",
        "\n",
        "\n",
        "X0, X1 = X1[:, 0], X1[:, 1]\n",
        "res_x, res_y = plot_meshgrid(X0, X1)\n",
        "\n",
        "contoursPlot(ax, mdl_c_03, res_x, res_y, cmap=plt.cm.coolwarm, alpha=0.9)\n",
        "ax.scatter(X0, X1, c=Y, cmap=plt.cm.coolwarm, s=20, edgecolors='k')\n",
        "ax.set_ylabel('y label')\n",
        "ax.set_xlabel('x label')\n",
        "ax.set_xticks(())\n",
        "ax.set_yticks(())\n",
        "ax.set_title(title)\n",
        "ax.legend()\n",
        "plt.show()"
      ],
      "metadata": {
        "colab": {
          "base_uri": "https://localhost:8080/",
          "height": 351
        },
        "id": "gD9R68wr7cyi",
        "outputId": "0a6224c0-e041-47d0-842f-634a30d0401d"
      },
      "execution_count": 25,
      "outputs": [
        {
          "output_type": "stream",
          "name": "stderr",
          "text": [
            "No handles with labels found to put in legend.\n"
          ]
        },
        {
          "output_type": "display_data",
          "data": {
            "text/plain": [
              "<Figure size 576x360 with 1 Axes>"
            ],
            "image/png": "[encoded data removed]"
          },
          "metadata": {}
        }
      ]
    },
    {
      "cell_type": "markdown",
      "source": [
        "### Training model with C = 100"
      ],
      "metadata": {
        "id": "0l3vkh94YNaV"
      }
    },
    {
      "cell_type": "code",
      "source": [
        "# SVC Training Model with C=100\n",
        "\n",
        "x_train, x_test, y_train, y_test = train_test_split(X,Y, test_size=0.2)\n",
        "\n",
        "scaler = MinMaxScaler()\n",
        "x_train = scaler.fit_transform(x_train)\n",
        "x_test = scaler.transform(x_test)\n",
        "\n",
        "\n",
        "mdl_c_100 = SVC(C = 100, kernel='linear')\n",
        "\n",
        "mdl_c_100.fit(x_train, y_train)\n",
        "\n",
        "y_pred_train5 = mdl_c_100.predict(x_train)\n",
        "print('Accuracy Score(Train Data set:)', accuracy_score(y_train,y_pred_train5))\n",
        "\n",
        "\n",
        "y_pred_test5 = mdl_c_100.predict(x_test)\n",
        "print('Accuracy Score(Test Data set:)', accuracy_score(y_test,y_pred_test5))"
      ],
      "metadata": {
        "colab": {
          "base_uri": "https://localhost:8080/"
        },
        "id": "tIUG2mu3YQNS",
        "outputId": "7f76cc98-f910-4ea6-b881-6ba712c64e5e"
      },
      "execution_count": 26,
      "outputs": [
        {
          "output_type": "stream",
          "name": "stdout",
          "text": [
            "Accuracy Score(Train Data set:) 0.6717019133937563\n",
            "Accuracy Score(Test Data set:) 0.6787512588116817\n"
          ]
        }
      ]
    },
    {
      "cell_type": "code",
      "source": [
        "X1 = scaler.fit_transform(X)\n",
        "\n",
        "fig, ax = plt.subplots(figsize=(8,6))\n",
        "# title\n",
        "title = ('SVC linear with C=100')\n",
        "\n",
        "\n",
        "X0, X1 = X1[:, 0], X1[:, 1]\n",
        "res_x, res_y = plot_meshgrid(X0, X1)\n",
        "\n",
        "contoursPlot(ax, mdl_c_100, res_x, res_y, cmap=plt.cm.coolwarm, alpha=0.9)\n",
        "ax.scatter(X0, X1, c=Y, cmap=plt.cm.coolwarm, s=20, edgecolors='k')\n",
        "ax.set_ylabel('y label')\n",
        "ax.set_xlabel('x label')\n",
        "ax.set_xticks(())\n",
        "ax.set_yticks(())\n",
        "ax.set_title(title)\n",
        "ax.legend()\n",
        "plt.show()"
      ],
      "metadata": {
        "colab": {
          "base_uri": "https://localhost:8080/",
          "height": 405
        },
        "id": "xxGiRfPi7uHC",
        "outputId": "4fcb3dbe-7edc-4336-87c2-064c6ca07a53"
      },
      "execution_count": 27,
      "outputs": [
        {
          "output_type": "stream",
          "name": "stderr",
          "text": [
            "No handles with labels found to put in legend.\n"
          ]
        },
        {
          "output_type": "display_data",
          "data": {
            "text/plain": [
              "<Figure size 576x432 with 1 Axes>"
            ],
            "image/png": "[encoded data removed]"
          },
          "metadata": {}
        }
      ]
    },
    {
      "cell_type": "markdown",
      "source": [
        "##Model Training with C=500"
      ],
      "metadata": {
        "id": "QYXWoI4dYjEQ"
      }
    },
    {
      "cell_type": "code",
      "source": [
        "# Model Training with C=500\n",
        "\n",
        "x_train, x_test, y_train, y_test = train_test_split(X,Y, test_size=0.2)\n",
        "\n",
        "scaler = MinMaxScaler()\n",
        "x_train = scaler.fit_transform(x_train)\n",
        "x_test = scaler.transform(x_test)\n",
        "\n",
        "\n",
        "mdl_C_500 = SVC(C = 500, kernel='linear')\n",
        "\n",
        "mdl_C_500.fit(x_train, y_train)\n",
        "\n",
        "y_pred_t = mdl_C_500.predict(x_train)\n",
        "print('Accuracy Score(Train Data:)', accuracy_score(y_train,y_pred_t))\n",
        "\n",
        "\n",
        "y_pred_t =mdl_C_500.predict(x_test)\n",
        "print('Accuracy Score(Test Data:)', accuracy_score(y_test,y_pred_t))"
      ],
      "metadata": {
        "colab": {
          "base_uri": "https://localhost:8080/"
        },
        "id": "3mXF36adYm-1",
        "outputId": "d7a9d459-a6f9-4aa1-b3d1-abf005496eac"
      },
      "execution_count": 28,
      "outputs": [
        {
          "output_type": "stream",
          "name": "stdout",
          "text": [
            "Accuracy Score(Train Data:) 0.676233635448137\n",
            "Accuracy Score(Test Data:) 0.6706948640483383\n"
          ]
        }
      ]
    },
    {
      "cell_type": "code",
      "source": [
        "X1 = scaler.fit_transform(X)\n",
        "\n",
        "fig, ax = plt.subplots(figsize=(7,5))\n",
        "# title\n",
        "title = ('SVC Linear with C=500')\n",
        "# Set-up grid for plotting.\n",
        "X0, X1 = X1[:, 0], X1[:, 1]\n",
        "res_x, res_y = plot_meshgrid(X0, X1)\n",
        "\n",
        "contoursPlot(ax, mdl_C_500, res_x,res_y, cmap=plt.cm.coolwarm, alpha=0.9)\n",
        "ax.scatter(X0, X1, c=Y, cmap=plt.cm.coolwarm, s=20, edgecolors='k')\n",
        "ax.set_ylabel('y label')\n",
        "ax.set_xlabel('x label')\n",
        "ax.set_xticks(())\n",
        "ax.set_yticks(())\n",
        "ax.set_title(title)\n",
        "ax.legend()\n",
        "plt.show()"
      ],
      "metadata": {
        "colab": {
          "base_uri": "https://localhost:8080/",
          "height": 351
        },
        "id": "zz6pTmFcY4mY",
        "outputId": "67684e0d-4d4f-48a6-a004-ae870de19cc9"
      },
      "execution_count": 29,
      "outputs": [
        {
          "output_type": "stream",
          "name": "stderr",
          "text": [
            "No handles with labels found to put in legend.\n"
          ]
        },
        {
          "output_type": "display_data",
          "data": {
            "text/plain": [
              "<Figure size 504x360 with 1 Axes>"
            ],
            "image/png": "[encoded data removed]"
          },
          "metadata": {}
        }
      ]
    },
    {
      "cell_type": "code",
      "source": [
        ""
      ],
      "metadata": {
        "id": "naN1lAXD8EYn"
      },
      "execution_count": null,
      "outputs": []
    }
  ]
}